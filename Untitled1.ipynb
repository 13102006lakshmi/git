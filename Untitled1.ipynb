{
  "nbformat": 4,
  "nbformat_minor": 0,
  "metadata": {
    "colab": {
      "provenance": [],
      "authorship_tag": "ABX9TyMPnAENw/90vvSdYpQs63Ij",
      "include_colab_link": true
    },
    "kernelspec": {
      "name": "python3",
      "display_name": "Python 3"
    },
    "language_info": {
      "name": "python"
    }
  },
  "cells": [
    {
      "cell_type": "markdown",
      "metadata": {
        "id": "view-in-github",
        "colab_type": "text"
      },
      "source": [
        "<a href=\"https://colab.research.google.com/github/13102006lakshmi/git/blob/main/Untitled1.ipynb\" target=\"_parent\"><img src=\"https://colab.research.google.com/assets/colab-badge.svg\" alt=\"Open In Colab\"/></a>"
      ]
    },
    {
      "cell_type": "code",
      "execution_count": null,
      "metadata": {
        "id": "CY3ehj_yDJ5w"
      },
      "outputs": [],
      "source": []
    },
    {
      "cell_type": "markdown",
      "source": [
        " .butterfly {\n",
        "    background-color: rgba(0,0,0,4)\n",
        "    border: none;\n",
        "    color: rgba(255,255,255,0,4);\n",
        "    padding: 10px;\n",
        "    text-align: center;\n",
        "    text-decration: none;\n",
        "    display: inline-block;\n",
        "    font-size: 16px;\n",
        "    margin: 2px 2px;\n",
        "    cursor: pointer;\n",
        "    border-radius: 5px;\n",
        "    transition: background-color 0.3s;\n",
        " }"
      ],
      "metadata": {
        "id": "j-n-ICe9DL3k"
      }
    },
    {
      "cell_type": "code",
      "source": [],
      "metadata": {
        "id": "l7A7vMVKGb1j"
      },
      "execution_count": null,
      "outputs": []
    }
  ]
}